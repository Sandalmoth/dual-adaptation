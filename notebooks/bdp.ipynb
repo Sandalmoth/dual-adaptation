{
 "cells": [
  {
   "cell_type": "markdown",
   "metadata": {},
   "source": [
    "# Birth death process with individual evolving birth rates\n",
    "\n",
    "_Jonathan Lindström_\n",
    "\n",
    "Consider a birth death process where each particle has it's own parameter $c$. The birth rate for the process is\n",
    "\n",
    "$\\lambda_n = \\sum_{i=1}^N f(c_i)$\n",
    "\n",
    "Where $f(c) > 0$ for all values of $c$.\n",
    "\n",
    "The death is simply proportional to the number.\n",
    "\n",
    "$\\mu_n = N\\mu$"
   ]
  },
  {
   "cell_type": "code",
   "execution_count": null,
   "metadata": {},
   "outputs": [],
   "source": []
  }
 ],
 "metadata": {
  "kernelspec": {
   "display_name": "Python 3",
   "language": "python",
   "name": "python3"
  },
  "language_info": {
   "codemirror_mode": {
    "name": "ipython",
    "version": 3
   },
   "file_extension": ".py",
   "mimetype": "text/x-python",
   "name": "python",
   "nbconvert_exporter": "python",
   "pygments_lexer": "ipython3",
   "version": "3.6.7"
  }
 },
 "nbformat": 4,
 "nbformat_minor": 2
}
